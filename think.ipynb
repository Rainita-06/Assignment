{
 "cells": [
  {
   "cell_type": "code",
   "execution_count": 4,
   "metadata": {},
   "outputs": [
    {
     "name": "stdout",
     "output_type": "stream",
     "text": [
      "        type                                         start_time  \\\n",
      "0  discharge  [2010.       7.      21.      15.       0.    ...   \n",
      "1  impedance  [2010.       7.      21.      16.      53.    ...   \n",
      "2     charge  [2010.       7.      21.      17.      25.    ...   \n",
      "3  impedance                    [2010    7   21   20   31    5]   \n",
      "4  discharge  [2.0100e+03 7.0000e+00 2.1000e+01 2.1000e+01 2...   \n",
      "\n",
      "   ambient_temperature battery_id  test_id  uid   filename  \\\n",
      "0                    4      B0047        0    1  00001.csv   \n",
      "1                   24      B0047        1    2  00002.csv   \n",
      "2                    4      B0047        2    3  00003.csv   \n",
      "3                   24      B0047        3    4  00004.csv   \n",
      "4                    4      B0047        4    5  00005.csv   \n",
      "\n",
      "             Capacity                   Re                  Rct  \n",
      "0  1.6743047446975208                  NaN                  NaN  \n",
      "1                 NaN  0.05605783343888099  0.20097016584458333  \n",
      "2                 NaN                  NaN                  NaN  \n",
      "3                 NaN  0.05319185850921101  0.16473399914864734  \n",
      "4  1.5243662105099023                  NaN                  NaN  \n",
      "Index(['type', 'start_time', 'ambient_temperature', 'battery_id', 'test_id',\n",
      "       'uid', 'filename', 'Capacity', 'Re', 'Rct'],\n",
      "      dtype='object')\n"
     ]
    }
   ],
   "source": [
    "\n",
    " # Replace with the actual file path\n",
    "import pandas as pd\n",
    "import plotly.express as px\n",
    "import plotly.io as pio\n",
    "\n",
    "# Set the default renderer to open in a web browser\n",
    "pio.renderers.default = 'browser'\n",
    "\n",
    "# Step 1: Load the dataset\n",
    "file_path = \"C:/Users/raini/OneDrive/Pictures/ThinkClock/cleaned_dataset/metadata.csv\"  # Replace with the actual file path\n",
    "data = pd.read_csv(file_path)\n",
    "\n",
    "# Step 2: Inspect the dataset\n",
    "print(data.head())  # View the first few rows of the dataset\n",
    "print(data.columns)  # Check available columns\n",
    "\n",
    "# Step 3: Data Preprocessing\n",
    "# Filter for impedance measurements\n",
    "data = data[data['type'] == 'impedance']\n",
    "\n",
    "# Select relevant columns ('uid', 'Re', 'Rct')\n",
    "# Assuming 'uid' is a proxy for cycle count\n",
    "relevant_columns = ['uid', 'Re', 'Rct']\n",
    "data = data[relevant_columns].dropna()\n",
    "data.rename(columns={'uid': 'cycle'}, inplace=True)\n",
    "\n",
    "# Step 4: Plotting Battery Impedance (Re) vs Cycles\n",
    "fig_re = px.line(data, x='cycle', y='Re', title=\"Battery Impedance (Re) vs Aging (Cycles)\",\n",
    "                 labels={\"cycle\": \"Cycle Count\", \"Re\": \"Battery Impedance (Ohms)\"},\n",
    "                 template=\"plotly\")\n",
    "fig_re.show()\n",
    "\n",
    "# Step 5: Plotting Charge Transfer Resistance (Rct) vs Cycles\n",
    "fig_rct = px.line(data, x='cycle', y='Rct', title=\"Charge Transfer Resistance (Rct) vs Aging (Cycles)\",\n",
    "                  labels={\"cycle\": \"Cycle Count\", \"Rct\": \"Charge Transfer Resistance (Ohms)\"},\n",
    "                  template=\"plotly\")\n",
    "fig_rct.show()\n",
    "\n",
    "# Optional: Combined Plot\n",
    "fig_combined = px.line(data, x='cycle', y=['Re', 'Rct'],\n",
    "                       title=\"Battery Parameters (Re & Rct) vs Aging (Cycles)\",\n",
    "                       labels={\"cycle\": \"Cycle Count\", \"value\": \"Resistance (Ohms)\", \"variable\": \"Parameter\"},\n",
    "                       template=\"plotly\")\n",
    "fig_combined.show()\n"
   ]
  }
 ],
 "metadata": {
  "kernelspec": {
   "display_name": "Python 3",
   "language": "python",
   "name": "python3"
  },
  "language_info": {
   "codemirror_mode": {
    "name": "ipython",
    "version": 3
   },
   "file_extension": ".py",
   "mimetype": "text/x-python",
   "name": "python",
   "nbconvert_exporter": "python",
   "pygments_lexer": "ipython3",
   "version": "3.11.4"
  }
 },
 "nbformat": 4,
 "nbformat_minor": 2
}
